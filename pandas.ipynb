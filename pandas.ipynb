{
  "nbformat": 4,
  "nbformat_minor": 0,
  "metadata": {
    "colab": {
      "provenance": [],
      "authorship_tag": "ABX9TyN2fToXwi4eXV8Re80xQVub",
      "include_colab_link": true
    },
    "kernelspec": {
      "name": "python3",
      "display_name": "Python 3"
    },
    "language_info": {
      "name": "python"
    }
  },
  "cells": [
    {
      "cell_type": "markdown",
      "metadata": {
        "id": "view-in-github",
        "colab_type": "text"
      },
      "source": [
        "<a href=\"https://colab.research.google.com/github/nitishdhawan18/AI_ML/blob/main/pandas.ipynb\" target=\"_parent\"><img src=\"https://colab.research.google.com/assets/colab-badge.svg\" alt=\"Open In Colab\"/></a>"
      ]
    },
    {
      "cell_type": "code",
      "execution_count": 1,
      "metadata": {
        "colab": {
          "base_uri": "https://localhost:8080/"
        },
        "id": "j7QqG17Q5qik",
        "outputId": "0ebdc56c-7ebd-4f5c-f7a8-95e425ea15ec"
      },
      "outputs": [
        {
          "output_type": "stream",
          "name": "stdout",
          "text": [
            "a    2\n",
            "b    3\n",
            "c    4\n",
            "d    5\n",
            "dtype: int64\n",
            "   Country    Capital  Population\n",
            "0  Belgium   Brussels    11000045\n",
            "1    India  New Delhi   139171345\n",
            "2   Brazil   Brasilia   212823853\n",
            "(3, 3)\n",
            "  Country    Capital  Population\n",
            "1   India  New Delhi   139171345\n",
            "2  Brazil   Brasilia   212823853\n"
          ]
        }
      ],
      "source": [
        "# Import pandas library\n",
        "import pandas as pd\n",
        "\n",
        "# Creating a Pandas Series with index\n",
        "s = pd.Series([2,3,4,5], index=['a','b','c','d'])\n",
        "print(s)\n",
        "\n",
        "# Creating a DataFrame with country data\n",
        "data = {\n",
        "    'Country': ['Belgium', 'India', 'Brazil'],\n",
        "    'Capital': ['Brussels', 'New Delhi', 'Brasilia'],\n",
        "    'Population': [11000045, 139171345, 212823853]\n",
        "}\n",
        "\n",
        "df = pd.DataFrame(data)\n",
        "print(df)\n",
        "\n",
        "# Checking the shape of the DataFrame\n",
        "print(df.shape)\n",
        "\n",
        "# Slicing to get rows from index 1 onwards\n",
        "print(df[1:])\n",
        "\n",
        "# Slicing a specific cell (row\n"
      ]
    }
  ]
}